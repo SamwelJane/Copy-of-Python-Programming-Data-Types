{
  "nbformat": 4,
  "nbformat_minor": 0,
  "metadata": {
    "colab": {
      "name": " Where does Missing Data come from?",
      "version": "0.3.2",
      "provenance": [],
      "collapsed_sections": [],
      "toc_visible": true,
      "include_colab_link": true
    },
    "kernelspec": {
      "name": "python3",
      "display_name": "Python 3"
    }
  },
  "cells": [
    {
      "cell_type": "markdown",
      "metadata": {
        "id": "view-in-github",
        "colab_type": "text"
      },
      "source": [
        "<a href=\"https://colab.research.google.com/github/SamwelJane/Copy-of-Python-Programming-Data-Types/blob/master/Where_does_Missing_Data_come_from%3F.ipynb\" target=\"_parent\"><img src=\"https://colab.research.google.com/assets/colab-badge.svg\" alt=\"Open In Colab\"/></a>"
      ]
    },
    {
      "cell_type": "markdown",
      "metadata": {
        "id": "70yLYDMfBHa-",
        "colab_type": "text"
      },
      "source": [
        "<font color=\"green\">*To start working on this notebook, or any other notebook that we will use in the Moringa Data Science Course, we will need to save our own copy of it. We can do this by clicking File > Save a Copy in Drive. We will then be able to make edits to our own copy of this notebook.*</font>"
      ]
    },
    {
      "cell_type": "markdown",
      "metadata": {
        "id": "UuDxrh9x1MFM",
        "colab_type": "text"
      },
      "source": [
        "# Where does Missing Data come from?"
      ]
    },
    {
      "cell_type": "markdown",
      "metadata": {
        "id": "ierPEBwC16L9",
        "colab_type": "text"
      },
      "source": [
        "In the course of your data science career,  it is rare that you will work with raw data that does not have missing values. \n",
        "\n",
        "Missing data can arise from the loading of data, when merging data, data entry or the reindexing process - the process of transforming data from one process to the other. We will see how this can happen in the sections below:"
      ]
    },
    {
      "cell_type": "markdown",
      "metadata": {
        "id": "WuROceEy3suc",
        "colab_type": "text"
      },
      "source": [
        "## 1.0 Loading Data\n",
        "\n"
      ]
    },
    {
      "cell_type": "markdown",
      "metadata": {
        "id": "Pv3b_3Hf7_ea",
        "colab_type": "text"
      },
      "source": [
        "When we load data with pandas, we get a dataframe with the NaN value in the cell that had missing data. This is as a result of the read_csv function, which can take the following parameters which relate to reading in missing values: na_values, keep_default_na and na_filter.\n",
        "\n",
        "We will now see how these parameters work."
      ]
    },
    {
      "cell_type": "code",
      "metadata": {
        "id": "OOpp4KBbDf6Z",
        "colab_type": "code",
        "outputId": "5dfa9435-ee8e-4be1-d331-9d8bc8a3ca60",
        "colab": {
          "base_uri": "https://localhost:8080/",
          "height": 408
        }
      },
      "source": [
        "# First lets import our dataset that we will use for the examples\n",
        "\n",
        "# Let's import our pandas library \n",
        "#OUR CODE GOES HERE\n",
        "import pandas as pd\n",
        "import numpy as np\n",
        "\n",
        "# Let's set the location for our data\n",
        "url = 'http://bit.ly/UniversityDataSet'\n",
        "\n",
        "# We then store this dataset in a dataframe\n",
        "# We us the latin1 encoding because our dataset contains special characters. \n",
        "# An encoding is one specific way of interpreting bytes: It's a look-up table that says, \n",
        "# for example, that a byte with the value 97 stands for 'a'.\n",
        "#\n",
        "df = pd.read_csv(url, encoding = \"latin1\")\n",
        "\n",
        "# then view the columns of this dataframe, this will help us get familiar with the dataset before working on it\n",
        "df.columns.values.tolist()"
      ],
      "execution_count": 1,
      "outputs": [
        {
          "output_type": "execute_result",
          "data": {
            "text/plain": [
              "['Year',\n",
              " 'Org Name',\n",
              " 'Org Code',\n",
              " 'Spec Ed. Grad Rate - Grad Cohort #',\n",
              " 'Spec Ed. Grad Rate - Grad #',\n",
              " 'Spec Ed. Grad Rate - Grad %',\n",
              " 'Spec Ed. Dropout - Enr #',\n",
              " 'Spec Ed. Dropout - Drop #',\n",
              " 'Spec Ed. Dropout - Drop %',\n",
              " 'LRE Ages 6-21 - Students #',\n",
              " 'LRE Ages 6-21 - Full Incl #',\n",
              " 'LRE Ages 6-21 - Full Incl %',\n",
              " 'LRE Ages 3-5 - Students #',\n",
              " 'LRE Ages 3-5 - Full Incl #',\n",
              " 'LRE Ages 3-5 - Full Incl %',\n",
              " 'Cohort Completion Year',\n",
              " 'Substantial growth of knowledge & skills',\n",
              " 'Survey Period',\n",
              " 'Surv Meet Std #',\n",
              " 'Surv Meet Std %',\n",
              " 'Sch Yr Rev',\n",
              " '# of Students Engaged',\n",
              " 'Dist Rate']"
            ]
          },
          "metadata": {
            "tags": []
          },
          "execution_count": 1
        }
      ]
    },
    {
      "cell_type": "code",
      "metadata": {
        "id": "dui0YYmPDvs_",
        "colab_type": "code",
        "colab": {}
      },
      "source": [
        "# We will then load the first 5 rows of our data and try to understand it more, while noting the missing values in the records, \n",
        "# afterwards learn more about the parameters\n",
        "# \n",
        "OUR CODE GOES HERE"
      ],
      "execution_count": 0,
      "outputs": []
    },
    {
      "cell_type": "markdown",
      "metadata": {
        "id": "KGNkP_ARIns6",
        "colab_type": "text"
      },
      "source": [
        "**i) na_values**\n",
        "\n",
        "The na_values parameter will allow us to specify additional missing or NaN values. What are NaN values you ask?\n",
        "\n",
        "> *These NaN values are from the python numpy library - Missing values in python are displayed in a few ways - NaN, NAN or nan and are all equivalent.*\n",
        "\n",
        "By default, this parameter is usually never used when reading the file mainly because these default missing values - NaN or nan, are already available. "
      ]
    },
    {
      "cell_type": "code",
      "metadata": {
        "id": "eDIBrwJsEOnV",
        "colab_type": "code",
        "colab": {
          "base_uri": "https://localhost:8080/",
          "height": 153
        },
        "outputId": "1bf47b54-6d6c-4622-c5f4-5718c8f43cfe"
      },
      "source": [
        "# now we load the data with the default values\n",
        "print(pd.read_csv(url, encoding = 'latin1').head())"
      ],
      "execution_count": 2,
      "outputs": [
        {
          "output_type": "stream",
          "text": [
            "   Year  Org Name  Org Code  ... Sch Yr Rev # of Students Engaged Dist Rate\n",
            "0  2012  Abington     10000  ...    2010-11                     8      100%\n",
            "1  2013  Abington     10000  ...    2010-11                     8      100%\n",
            "2  2012     Acton     20000  ...    2012-13                    NR        NR\n",
            "3  2013     Acton     20000  ...    2012-13                    NR        NR\n",
            "4  2012  Acushnet     30000  ...    2011-12                   NaN          \n",
            "\n",
            "[5 rows x 23 columns]\n"
          ],
          "name": "stdout"
        }
      ]
    },
    {
      "cell_type": "markdown",
      "metadata": {
        "id": "auvMdkUnJOkr",
        "colab_type": "text"
      },
      "source": [
        "**ii) keep_default_na**\n",
        "\n",
        "The second parameter is the `keep_default_na` parameter, which is a bool (boolean). It allows us to specify whether any additional values need to be considered missing. By default this parameter is True, meaning any additional missing values specified with the na_values paramenter will be appended to list of missing values. \n",
        "\n",
        "We can also set `keep_default_na=False` which will mean that we will only use missing values specified in na_values. "
      ]
    },
    {
      "cell_type": "code",
      "metadata": {
        "id": "Tqq6E-loKUTf",
        "colab_type": "code",
        "colab": {
          "base_uri": "https://localhost:8080/",
          "height": 153
        },
        "outputId": "fbc6001c-d925-4260-c8a9-0d5435675d98"
      },
      "source": [
        "# Example 2\n",
        "# We then load the data without default missing values \n",
        "# \n",
        "print(pd.read_csv(url, encoding = 'latin1', keep_default_na = False).head())"
      ],
      "execution_count": 3,
      "outputs": [
        {
          "output_type": "stream",
          "text": [
            "   Year  Org Name  Org Code  ... Sch Yr Rev # of Students Engaged Dist Rate\n",
            "0  2012  Abington     10000  ...    2010-11                     8      100%\n",
            "1  2013  Abington     10000  ...    2010-11                     8      100%\n",
            "2  2012     Acton     20000  ...    2012-13                    NR        NR\n",
            "3  2013     Acton     20000  ...    2012-13                    NR        NR\n",
            "4  2012  Acushnet     30000  ...    2011-12                                \n",
            "\n",
            "[5 rows x 23 columns]\n"
          ],
          "name": "stdout"
        }
      ]
    },
    {
      "cell_type": "code",
      "metadata": {
        "id": "gVrB81wOCn1-",
        "colab_type": "code",
        "colab": {}
      },
      "source": [
        "# Challenge 1: \n",
        "# Using the keep_default_na parameter, load the data with the default missing values below\n",
        "# \n",
        "OUR CODE GOES HERE"
      ],
      "execution_count": 0,
      "outputs": []
    },
    {
      "cell_type": "markdown",
      "metadata": {
        "id": "42Sd8SSYJXjv",
        "colab_type": "text"
      },
      "source": [
        "iii) **na_filter**\n",
        "\n",
        "Our third parameter is the *na_filter parameter,* which is a bool that specifies whether any values will be read as missing. By default the na_filter=True, meaning that missing values will be coded as NaN. If na_filter=False, then nothing will be recorded as missing. We normally use this parameter when we want to set false the na_values and keep_default_na parameter all at the same time as well as when we want to quickly load any data without missing values. \n",
        "\n"
      ]
    },
    {
      "cell_type": "code",
      "metadata": {
        "id": "RkJdBrJvCqx9",
        "colab_type": "code",
        "outputId": "b77a61cb-6ae7-4e5c-e4ac-8ba6bdcbf915",
        "colab": {
          "base_uri": "https://localhost:8080/",
          "height": 153
        }
      },
      "source": [
        "# Example 3\n",
        "# Let's set the na_filter parameter to True\n",
        "# \n",
        "print(pd.read_csv(url, na_filter = True, encoding ='latin1').head())"
      ],
      "execution_count": 4,
      "outputs": [
        {
          "output_type": "stream",
          "text": [
            "   Year  Org Name  Org Code  ... Sch Yr Rev # of Students Engaged Dist Rate\n",
            "0  2012  Abington     10000  ...    2010-11                     8      100%\n",
            "1  2013  Abington     10000  ...    2010-11                     8      100%\n",
            "2  2012     Acton     20000  ...    2012-13                    NR        NR\n",
            "3  2013     Acton     20000  ...    2012-13                    NR        NR\n",
            "4  2012  Acushnet     30000  ...    2011-12                   NaN          \n",
            "\n",
            "[5 rows x 23 columns]\n"
          ],
          "name": "stdout"
        }
      ]
    },
    {
      "cell_type": "code",
      "metadata": {
        "id": "bQas6NWTtenI",
        "colab_type": "code",
        "colab": {}
      },
      "source": [
        "# Challenge 2\n",
        "# Now let's see what happens when we set the na_filter parameter to False\n",
        "# \n",
        "#OUR CODE GOES HERE\n",
        "print(pd.read_csv(url, na_filter = False, encoding ='latin1').head())"
      ],
      "execution_count": 0,
      "outputs": []
    },
    {
      "cell_type": "code",
      "metadata": {
        "id": "YC0qIxQuKVN8",
        "colab_type": "code",
        "colab": {}
      },
      "source": [
        ""
      ],
      "execution_count": 0,
      "outputs": []
    },
    {
      "cell_type": "markdown",
      "metadata": {
        "id": "eVonhQHZ3v_B",
        "colab_type": "text"
      },
      "source": [
        "## 1.1 Merging Data\n"
      ]
    },
    {
      "cell_type": "markdown",
      "metadata": {
        "id": "t-EayHUZQwfE",
        "colab_type": "text"
      },
      "source": [
        "Missing data can also result from the merging of datasets. This we will see when we create a merged table from the two datasets below. \n",
        "\n",
        "Having missing values in the merged table can be as a result of either or neither of the datasets having any missing values i.e. if the datasets have unique columns.\n",
        "\n"
      ]
    },
    {
      "cell_type": "code",
      "metadata": {
        "id": "uUmd0YtoUOXN",
        "colab_type": "code",
        "colab": {}
      },
      "source": [
        "import pandas as pd\n",
        "apple_orange_dataset = 'http://bit.ly/AppleOrangeDataSet'\n",
        "stability_dataset    = 'http://bit.ly/StabilityDataset'\n",
        "\n",
        "apple_orange_dataset = pd.read_csv(apple_orange_dataset, encoding ='latin1')\n",
        "stability_dataset    = pd.read_csv(stability_dataset, encoding ='latin1')"
      ],
      "execution_count": 0,
      "outputs": []
    },
    {
      "cell_type": "markdown",
      "metadata": {
        "id": "3KMGTOEgdnme",
        "colab_type": "text"
      },
      "source": [
        "The appleorange dataset  contains production volumes of apples and oranges while the stability dataset contains country stability indicators. "
      ]
    },
    {
      "cell_type": "code",
      "metadata": {
        "id": "Zfry7pMHZh0I",
        "colab_type": "code",
        "colab": {
          "base_uri": "https://localhost:8080/",
          "height": 529
        },
        "outputId": "1326c8e3-9d62-4354-dbcd-ae8f9592f40d"
      },
      "source": [
        "# Displaying our the first dataset\n",
        "#\n",
        "apple_orange_dataset.head(10)"
      ],
      "execution_count": 7,
      "outputs": [
        {
          "output_type": "execute_result",
          "data": {
            "text/html": [
              "<div>\n",
              "<style scoped>\n",
              "    .dataframe tbody tr th:only-of-type {\n",
              "        vertical-align: middle;\n",
              "    }\n",
              "\n",
              "    .dataframe tbody tr th {\n",
              "        vertical-align: top;\n",
              "    }\n",
              "\n",
              "    .dataframe thead th {\n",
              "        text-align: right;\n",
              "    }\n",
              "</style>\n",
              "<table border=\"1\" class=\"dataframe\">\n",
              "  <thead>\n",
              "    <tr style=\"text-align: right;\">\n",
              "      <th></th>\n",
              "      <th>FAOSTAT 2013</th>\n",
              "      <th>Unnamed: 1</th>\n",
              "      <th>Unnamed: 2</th>\n",
              "      <th>Unnamed: 3</th>\n",
              "      <th>Unnamed: 4</th>\n",
              "      <th>Unnamed: 5</th>\n",
              "    </tr>\n",
              "  </thead>\n",
              "  <tbody>\n",
              "    <tr>\n",
              "      <th>0</th>\n",
              "      <td>Elements Ê</td>\n",
              "      <td>NaN</td>\n",
              "      <td>Areas Ê</td>\n",
              "      <td>NaN</td>\n",
              "      <td>Items Ê</td>\n",
              "      <td>2009.0</td>\n",
              "    </tr>\n",
              "    <tr>\n",
              "      <th>1</th>\n",
              "      <td>Food supply quantity (tonnes) (tonnes)</td>\n",
              "      <td>NaN</td>\n",
              "      <td>NaN</td>\n",
              "      <td>NaN</td>\n",
              "      <td>NaN</td>\n",
              "      <td>NaN</td>\n",
              "    </tr>\n",
              "    <tr>\n",
              "      <th>2</th>\n",
              "      <td>Food supply quantity (tonnes) (tonnes)</td>\n",
              "      <td>NaN</td>\n",
              "      <td>Food supply quantity (tonnes) (tonnes)</td>\n",
              "      <td>NaN</td>\n",
              "      <td>NaN</td>\n",
              "      <td>NaN</td>\n",
              "    </tr>\n",
              "    <tr>\n",
              "      <th>3</th>\n",
              "      <td>Food supply quantity (tonnes) (tonnes)</td>\n",
              "      <td>NaN</td>\n",
              "      <td>NaN</td>\n",
              "      <td>NaN</td>\n",
              "      <td>NaN</td>\n",
              "      <td>NaN</td>\n",
              "    </tr>\n",
              "    <tr>\n",
              "      <th>4</th>\n",
              "      <td>Albania</td>\n",
              "      <td>3</td>\n",
              "      <td>Apples and products</td>\n",
              "      <td>2617.0</td>\n",
              "      <td>57Ê459.00, tonnes ()</td>\n",
              "      <td>NaN</td>\n",
              "    </tr>\n",
              "    <tr>\n",
              "      <th>5</th>\n",
              "      <td>Food supply quantity (tonnes) (tonnes)</td>\n",
              "      <td>NaN</td>\n",
              "      <td>NaN</td>\n",
              "      <td>NaN</td>\n",
              "      <td>NaN</td>\n",
              "      <td>NaN</td>\n",
              "    </tr>\n",
              "    <tr>\n",
              "      <th>6</th>\n",
              "      <td>Albania</td>\n",
              "      <td>3</td>\n",
              "      <td>Oranges, Mandarines</td>\n",
              "      <td>2611.0</td>\n",
              "      <td>40Ê880.00, tonnes ()</td>\n",
              "      <td>NaN</td>\n",
              "    </tr>\n",
              "    <tr>\n",
              "      <th>7</th>\n",
              "      <td>Food supply quantity (tonnes) (tonnes)</td>\n",
              "      <td>NaN</td>\n",
              "      <td>NaN</td>\n",
              "      <td>NaN</td>\n",
              "      <td>NaN</td>\n",
              "      <td>NaN</td>\n",
              "    </tr>\n",
              "    <tr>\n",
              "      <th>8</th>\n",
              "      <td>Algeria</td>\n",
              "      <td>4</td>\n",
              "      <td>Apples and products</td>\n",
              "      <td>2617.0</td>\n",
              "      <td>370Ê008.00, tonnes ()</td>\n",
              "      <td>NaN</td>\n",
              "    </tr>\n",
              "    <tr>\n",
              "      <th>9</th>\n",
              "      <td>Food supply quantity (tonnes) (tonnes)</td>\n",
              "      <td>NaN</td>\n",
              "      <td>NaN</td>\n",
              "      <td>NaN</td>\n",
              "      <td>NaN</td>\n",
              "      <td>NaN</td>\n",
              "    </tr>\n",
              "  </tbody>\n",
              "</table>\n",
              "</div>"
            ],
            "text/plain": [
              "                             FAOSTAT 2013  ... Unnamed: 5\n",
              "0                              Elements Ê  ...     2009.0\n",
              "1  Food supply quantity (tonnes) (tonnes)  ...        NaN\n",
              "2  Food supply quantity (tonnes) (tonnes)  ...        NaN\n",
              "3  Food supply quantity (tonnes) (tonnes)  ...        NaN\n",
              "4                                 Albania  ...        NaN\n",
              "5  Food supply quantity (tonnes) (tonnes)  ...        NaN\n",
              "6                                 Albania  ...        NaN\n",
              "7  Food supply quantity (tonnes) (tonnes)  ...        NaN\n",
              "8                                 Algeria  ...        NaN\n",
              "9  Food supply quantity (tonnes) (tonnes)  ...        NaN\n",
              "\n",
              "[10 rows x 6 columns]"
            ]
          },
          "metadata": {
            "tags": []
          },
          "execution_count": 7
        }
      ]
    },
    {
      "cell_type": "code",
      "metadata": {
        "id": "eX8ebJEVZobi",
        "colab_type": "code",
        "colab": {
          "base_uri": "https://localhost:8080/",
          "height": 529
        },
        "outputId": "6456db9e-3193-4678-fdc9-89405d862050"
      },
      "source": [
        "# Displaying our second dataset\n",
        "# \n",
        "stability_dataset.head(10)"
      ],
      "execution_count": 8,
      "outputs": [
        {
          "output_type": "execute_result",
          "data": {
            "text/html": [
              "<div>\n",
              "<style scoped>\n",
              "    .dataframe tbody tr th:only-of-type {\n",
              "        vertical-align: middle;\n",
              "    }\n",
              "\n",
              "    .dataframe tbody tr th {\n",
              "        vertical-align: top;\n",
              "    }\n",
              "\n",
              "    .dataframe thead th {\n",
              "        text-align: right;\n",
              "    }\n",
              "</style>\n",
              "<table border=\"1\" class=\"dataframe\">\n",
              "  <thead>\n",
              "    <tr style=\"text-align: right;\">\n",
              "      <th></th>\n",
              "      <th>FAOSTAT 2013</th>\n",
              "      <th>Unnamed: 1</th>\n",
              "      <th>Unnamed: 2</th>\n",
              "      <th>Unnamed: 3</th>\n",
              "      <th>Unnamed: 4</th>\n",
              "      <th>Unnamed: 5</th>\n",
              "    </tr>\n",
              "  </thead>\n",
              "  <tbody>\n",
              "    <tr>\n",
              "      <th>0</th>\n",
              "      <td>Elements Ê</td>\n",
              "      <td>NaN</td>\n",
              "      <td>Areas Ê</td>\n",
              "      <td>NaN</td>\n",
              "      <td>Items Ê</td>\n",
              "      <td>2009.0</td>\n",
              "    </tr>\n",
              "    <tr>\n",
              "      <th>1</th>\n",
              "      <td>Value (index)</td>\n",
              "      <td>NaN</td>\n",
              "      <td>NaN</td>\n",
              "      <td>NaN</td>\n",
              "      <td>NaN</td>\n",
              "      <td>NaN</td>\n",
              "    </tr>\n",
              "    <tr>\n",
              "      <th>2</th>\n",
              "      <td>Value (index)</td>\n",
              "      <td>NaN</td>\n",
              "      <td>Value (index)</td>\n",
              "      <td>NaN</td>\n",
              "      <td>NaN</td>\n",
              "      <td>NaN</td>\n",
              "    </tr>\n",
              "    <tr>\n",
              "      <th>3</th>\n",
              "      <td>Value (index)</td>\n",
              "      <td>NaN</td>\n",
              "      <td>NaN</td>\n",
              "      <td>NaN</td>\n",
              "      <td>NaN</td>\n",
              "      <td>NaN</td>\n",
              "    </tr>\n",
              "    <tr>\n",
              "      <th>4</th>\n",
              "      <td>Afghanistan</td>\n",
              "      <td>2</td>\n",
              "      <td>Political stability and absence of violence/te...</td>\n",
              "      <td>21032.0</td>\n",
              "      <td>-2.70, index ()</td>\n",
              "      <td>NaN</td>\n",
              "    </tr>\n",
              "    <tr>\n",
              "      <th>5</th>\n",
              "      <td>Value (index)</td>\n",
              "      <td>NaN</td>\n",
              "      <td>NaN</td>\n",
              "      <td>NaN</td>\n",
              "      <td>NaN</td>\n",
              "      <td>NaN</td>\n",
              "    </tr>\n",
              "    <tr>\n",
              "      <th>6</th>\n",
              "      <td>Albania</td>\n",
              "      <td>3</td>\n",
              "      <td>Political stability and absence of violence/te...</td>\n",
              "      <td>21032.0</td>\n",
              "      <td>-0.05, index ()</td>\n",
              "      <td>NaN</td>\n",
              "    </tr>\n",
              "    <tr>\n",
              "      <th>7</th>\n",
              "      <td>Value (index)</td>\n",
              "      <td>NaN</td>\n",
              "      <td>NaN</td>\n",
              "      <td>NaN</td>\n",
              "      <td>NaN</td>\n",
              "      <td>NaN</td>\n",
              "    </tr>\n",
              "    <tr>\n",
              "      <th>8</th>\n",
              "      <td>Algeria</td>\n",
              "      <td>4</td>\n",
              "      <td>Political stability and absence of violence/te...</td>\n",
              "      <td>21032.0</td>\n",
              "      <td>-1.23, index ()</td>\n",
              "      <td>NaN</td>\n",
              "    </tr>\n",
              "    <tr>\n",
              "      <th>9</th>\n",
              "      <td>Value (index)</td>\n",
              "      <td>NaN</td>\n",
              "      <td>NaN</td>\n",
              "      <td>NaN</td>\n",
              "      <td>NaN</td>\n",
              "      <td>NaN</td>\n",
              "    </tr>\n",
              "  </tbody>\n",
              "</table>\n",
              "</div>"
            ],
            "text/plain": [
              "    FAOSTAT 2013 Unnamed: 1  ...       Unnamed: 4  Unnamed: 5\n",
              "0     Elements Ê        NaN  ...          Items Ê      2009.0\n",
              "1  Value (index)        NaN  ...              NaN         NaN\n",
              "2  Value (index)        NaN  ...              NaN         NaN\n",
              "3  Value (index)        NaN  ...              NaN         NaN\n",
              "4    Afghanistan          2  ...  -2.70, index ()         NaN\n",
              "5  Value (index)        NaN  ...              NaN         NaN\n",
              "6        Albania          3  ...  -0.05, index ()         NaN\n",
              "7  Value (index)        NaN  ...              NaN         NaN\n",
              "8        Algeria          4  ...  -1.23, index ()         NaN\n",
              "9  Value (index)        NaN  ...              NaN         NaN\n",
              "\n",
              "[10 rows x 6 columns]"
            ]
          },
          "metadata": {
            "tags": []
          },
          "execution_count": 8
        }
      ]
    },
    {
      "cell_type": "code",
      "metadata": {
        "id": "5HiE_oQ0aJkr",
        "colab_type": "code",
        "colab": {
          "base_uri": "https://localhost:8080/",
          "height": 1000
        },
        "outputId": "c7715cbc-0008-448c-d515-4ed43d8fd1cc"
      },
      "source": [
        "# Now merging the two dataframes and analysing the output\n",
        "merged_dataset = apple_orange_dataset.merge(stability_dataset, left_on='FAOSTAT 2013', right_on='FAOSTAT 2013')\n",
        "\n",
        "# Displayig our dataset\n",
        "merged_dataset.head(20)"
      ],
      "execution_count": 9,
      "outputs": [
        {
          "output_type": "execute_result",
          "data": {
            "text/html": [
              "<div>\n",
              "<style scoped>\n",
              "    .dataframe tbody tr th:only-of-type {\n",
              "        vertical-align: middle;\n",
              "    }\n",
              "\n",
              "    .dataframe tbody tr th {\n",
              "        vertical-align: top;\n",
              "    }\n",
              "\n",
              "    .dataframe thead th {\n",
              "        text-align: right;\n",
              "    }\n",
              "</style>\n",
              "<table border=\"1\" class=\"dataframe\">\n",
              "  <thead>\n",
              "    <tr style=\"text-align: right;\">\n",
              "      <th></th>\n",
              "      <th>FAOSTAT 2013</th>\n",
              "      <th>Unnamed: 1_x</th>\n",
              "      <th>Unnamed: 2_x</th>\n",
              "      <th>Unnamed: 3_x</th>\n",
              "      <th>Unnamed: 4_x</th>\n",
              "      <th>Unnamed: 5_x</th>\n",
              "      <th>Unnamed: 1_y</th>\n",
              "      <th>Unnamed: 2_y</th>\n",
              "      <th>Unnamed: 3_y</th>\n",
              "      <th>Unnamed: 4_y</th>\n",
              "      <th>Unnamed: 5_y</th>\n",
              "    </tr>\n",
              "  </thead>\n",
              "  <tbody>\n",
              "    <tr>\n",
              "      <th>0</th>\n",
              "      <td>Elements Ê</td>\n",
              "      <td>NaN</td>\n",
              "      <td>Areas Ê</td>\n",
              "      <td>NaN</td>\n",
              "      <td>Items Ê</td>\n",
              "      <td>2009.0</td>\n",
              "      <td>NaN</td>\n",
              "      <td>Areas Ê</td>\n",
              "      <td>NaN</td>\n",
              "      <td>Items Ê</td>\n",
              "      <td>2009.0</td>\n",
              "    </tr>\n",
              "    <tr>\n",
              "      <th>1</th>\n",
              "      <td>Albania</td>\n",
              "      <td>3</td>\n",
              "      <td>Apples and products</td>\n",
              "      <td>2617.0</td>\n",
              "      <td>57Ê459.00, tonnes ()</td>\n",
              "      <td>NaN</td>\n",
              "      <td>3</td>\n",
              "      <td>Political stability and absence of violence/te...</td>\n",
              "      <td>21032.0</td>\n",
              "      <td>-0.05, index ()</td>\n",
              "      <td>NaN</td>\n",
              "    </tr>\n",
              "    <tr>\n",
              "      <th>2</th>\n",
              "      <td>Albania</td>\n",
              "      <td>3</td>\n",
              "      <td>Apples and products</td>\n",
              "      <td>2617.0</td>\n",
              "      <td>57Ê459.00, tonnes ()</td>\n",
              "      <td>NaN</td>\n",
              "      <td>3</td>\n",
              "      <td>Per capita food supply variability (kcal/capit...</td>\n",
              "      <td>21031.0</td>\n",
              "      <td>40.29, kcal/capita/day ()</td>\n",
              "      <td>NaN</td>\n",
              "    </tr>\n",
              "    <tr>\n",
              "      <th>3</th>\n",
              "      <td>Albania</td>\n",
              "      <td>3</td>\n",
              "      <td>Apples and products</td>\n",
              "      <td>2617.0</td>\n",
              "      <td>57Ê459.00, tonnes ()</td>\n",
              "      <td>NaN</td>\n",
              "      <td>3</td>\n",
              "      <td>Rail-lines density (per 100 square km of land ...</td>\n",
              "      <td>21016.0</td>\n",
              "      <td>1.47, per 100 square km of land area ()</td>\n",
              "      <td>NaN</td>\n",
              "    </tr>\n",
              "    <tr>\n",
              "      <th>4</th>\n",
              "      <td>Albania</td>\n",
              "      <td>3</td>\n",
              "      <td>Oranges, Mandarines</td>\n",
              "      <td>2611.0</td>\n",
              "      <td>40Ê880.00, tonnes ()</td>\n",
              "      <td>NaN</td>\n",
              "      <td>3</td>\n",
              "      <td>Political stability and absence of violence/te...</td>\n",
              "      <td>21032.0</td>\n",
              "      <td>-0.05, index ()</td>\n",
              "      <td>NaN</td>\n",
              "    </tr>\n",
              "    <tr>\n",
              "      <th>5</th>\n",
              "      <td>Albania</td>\n",
              "      <td>3</td>\n",
              "      <td>Oranges, Mandarines</td>\n",
              "      <td>2611.0</td>\n",
              "      <td>40Ê880.00, tonnes ()</td>\n",
              "      <td>NaN</td>\n",
              "      <td>3</td>\n",
              "      <td>Per capita food supply variability (kcal/capit...</td>\n",
              "      <td>21031.0</td>\n",
              "      <td>40.29, kcal/capita/day ()</td>\n",
              "      <td>NaN</td>\n",
              "    </tr>\n",
              "    <tr>\n",
              "      <th>6</th>\n",
              "      <td>Albania</td>\n",
              "      <td>3</td>\n",
              "      <td>Oranges, Mandarines</td>\n",
              "      <td>2611.0</td>\n",
              "      <td>40Ê880.00, tonnes ()</td>\n",
              "      <td>NaN</td>\n",
              "      <td>3</td>\n",
              "      <td>Rail-lines density (per 100 square km of land ...</td>\n",
              "      <td>21016.0</td>\n",
              "      <td>1.47, per 100 square km of land area ()</td>\n",
              "      <td>NaN</td>\n",
              "    </tr>\n",
              "    <tr>\n",
              "      <th>7</th>\n",
              "      <td>Algeria</td>\n",
              "      <td>4</td>\n",
              "      <td>Apples and products</td>\n",
              "      <td>2617.0</td>\n",
              "      <td>370Ê008.00, tonnes ()</td>\n",
              "      <td>NaN</td>\n",
              "      <td>4</td>\n",
              "      <td>Political stability and absence of violence/te...</td>\n",
              "      <td>21032.0</td>\n",
              "      <td>-1.23, index ()</td>\n",
              "      <td>NaN</td>\n",
              "    </tr>\n",
              "    <tr>\n",
              "      <th>8</th>\n",
              "      <td>Algeria</td>\n",
              "      <td>4</td>\n",
              "      <td>Apples and products</td>\n",
              "      <td>2617.0</td>\n",
              "      <td>370Ê008.00, tonnes ()</td>\n",
              "      <td>NaN</td>\n",
              "      <td>4</td>\n",
              "      <td>Per capita food supply variability (kcal/capit...</td>\n",
              "      <td>21031.0</td>\n",
              "      <td>27.94, kcal/capita/day ()</td>\n",
              "      <td>NaN</td>\n",
              "    </tr>\n",
              "    <tr>\n",
              "      <th>9</th>\n",
              "      <td>Algeria</td>\n",
              "      <td>4</td>\n",
              "      <td>Apples and products</td>\n",
              "      <td>2617.0</td>\n",
              "      <td>370Ê008.00, tonnes ()</td>\n",
              "      <td>NaN</td>\n",
              "      <td>4</td>\n",
              "      <td>Rail-lines density (per 100 square km of land ...</td>\n",
              "      <td>21016.0</td>\n",
              "      <td>0.20, per 100 square km of land area ()</td>\n",
              "      <td>NaN</td>\n",
              "    </tr>\n",
              "    <tr>\n",
              "      <th>10</th>\n",
              "      <td>Algeria</td>\n",
              "      <td>4</td>\n",
              "      <td>Oranges, Mandarines</td>\n",
              "      <td>2611.0</td>\n",
              "      <td>762Ê365.00, tonnes ()</td>\n",
              "      <td>NaN</td>\n",
              "      <td>4</td>\n",
              "      <td>Political stability and absence of violence/te...</td>\n",
              "      <td>21032.0</td>\n",
              "      <td>-1.23, index ()</td>\n",
              "      <td>NaN</td>\n",
              "    </tr>\n",
              "    <tr>\n",
              "      <th>11</th>\n",
              "      <td>Algeria</td>\n",
              "      <td>4</td>\n",
              "      <td>Oranges, Mandarines</td>\n",
              "      <td>2611.0</td>\n",
              "      <td>762Ê365.00, tonnes ()</td>\n",
              "      <td>NaN</td>\n",
              "      <td>4</td>\n",
              "      <td>Per capita food supply variability (kcal/capit...</td>\n",
              "      <td>21031.0</td>\n",
              "      <td>27.94, kcal/capita/day ()</td>\n",
              "      <td>NaN</td>\n",
              "    </tr>\n",
              "    <tr>\n",
              "      <th>12</th>\n",
              "      <td>Algeria</td>\n",
              "      <td>4</td>\n",
              "      <td>Oranges, Mandarines</td>\n",
              "      <td>2611.0</td>\n",
              "      <td>762Ê365.00, tonnes ()</td>\n",
              "      <td>NaN</td>\n",
              "      <td>4</td>\n",
              "      <td>Rail-lines density (per 100 square km of land ...</td>\n",
              "      <td>21016.0</td>\n",
              "      <td>0.20, per 100 square km of land area ()</td>\n",
              "      <td>NaN</td>\n",
              "    </tr>\n",
              "    <tr>\n",
              "      <th>13</th>\n",
              "      <td>Angola</td>\n",
              "      <td>7</td>\n",
              "      <td>Apples and products</td>\n",
              "      <td>2617.0</td>\n",
              "      <td>4Ê481.00, tonnes ()</td>\n",
              "      <td>NaN</td>\n",
              "      <td>7</td>\n",
              "      <td>Political stability and absence of violence/te...</td>\n",
              "      <td>21032.0</td>\n",
              "      <td>-0.32, index ()</td>\n",
              "      <td>NaN</td>\n",
              "    </tr>\n",
              "    <tr>\n",
              "      <th>14</th>\n",
              "      <td>Angola</td>\n",
              "      <td>7</td>\n",
              "      <td>Apples and products</td>\n",
              "      <td>2617.0</td>\n",
              "      <td>4Ê481.00, tonnes ()</td>\n",
              "      <td>NaN</td>\n",
              "      <td>7</td>\n",
              "      <td>Per capita food supply variability (kcal/capit...</td>\n",
              "      <td>21031.0</td>\n",
              "      <td>26.81, kcal/capita/day ()</td>\n",
              "      <td>NaN</td>\n",
              "    </tr>\n",
              "    <tr>\n",
              "      <th>15</th>\n",
              "      <td>Angola</td>\n",
              "      <td>7</td>\n",
              "      <td>Oranges, Mandarines</td>\n",
              "      <td>2611.0</td>\n",
              "      <td>978.00, tonnes ()</td>\n",
              "      <td>NaN</td>\n",
              "      <td>7</td>\n",
              "      <td>Political stability and absence of violence/te...</td>\n",
              "      <td>21032.0</td>\n",
              "      <td>-0.32, index ()</td>\n",
              "      <td>NaN</td>\n",
              "    </tr>\n",
              "    <tr>\n",
              "      <th>16</th>\n",
              "      <td>Angola</td>\n",
              "      <td>7</td>\n",
              "      <td>Oranges, Mandarines</td>\n",
              "      <td>2611.0</td>\n",
              "      <td>978.00, tonnes ()</td>\n",
              "      <td>NaN</td>\n",
              "      <td>7</td>\n",
              "      <td>Per capita food supply variability (kcal/capit...</td>\n",
              "      <td>21031.0</td>\n",
              "      <td>26.81, kcal/capita/day ()</td>\n",
              "      <td>NaN</td>\n",
              "    </tr>\n",
              "    <tr>\n",
              "      <th>17</th>\n",
              "      <td>Antigua and Barbuda</td>\n",
              "      <td>8</td>\n",
              "      <td>Apples and products</td>\n",
              "      <td>2617.0</td>\n",
              "      <td>722.00, tonnes ()</td>\n",
              "      <td>NaN</td>\n",
              "      <td>8</td>\n",
              "      <td>Political stability and absence of violence/te...</td>\n",
              "      <td>21032.0</td>\n",
              "      <td>0.75, index ()</td>\n",
              "      <td>NaN</td>\n",
              "    </tr>\n",
              "    <tr>\n",
              "      <th>18</th>\n",
              "      <td>Antigua and Barbuda</td>\n",
              "      <td>8</td>\n",
              "      <td>Apples and products</td>\n",
              "      <td>2617.0</td>\n",
              "      <td>722.00, tonnes ()</td>\n",
              "      <td>NaN</td>\n",
              "      <td>8</td>\n",
              "      <td>Per capita food supply variability (kcal/capit...</td>\n",
              "      <td>21031.0</td>\n",
              "      <td>52.10, kcal/capita/day ()</td>\n",
              "      <td>NaN</td>\n",
              "    </tr>\n",
              "    <tr>\n",
              "      <th>19</th>\n",
              "      <td>Antigua and Barbuda</td>\n",
              "      <td>8</td>\n",
              "      <td>Oranges, Mandarines</td>\n",
              "      <td>2611.0</td>\n",
              "      <td>3Ê521.00, tonnes ()</td>\n",
              "      <td>NaN</td>\n",
              "      <td>8</td>\n",
              "      <td>Political stability and absence of violence/te...</td>\n",
              "      <td>21032.0</td>\n",
              "      <td>0.75, index ()</td>\n",
              "      <td>NaN</td>\n",
              "    </tr>\n",
              "  </tbody>\n",
              "</table>\n",
              "</div>"
            ],
            "text/plain": [
              "           FAOSTAT 2013  ... Unnamed: 5_y\n",
              "0            Elements Ê  ...       2009.0\n",
              "1               Albania  ...          NaN\n",
              "2               Albania  ...          NaN\n",
              "3               Albania  ...          NaN\n",
              "4               Albania  ...          NaN\n",
              "5               Albania  ...          NaN\n",
              "6               Albania  ...          NaN\n",
              "7               Algeria  ...          NaN\n",
              "8               Algeria  ...          NaN\n",
              "9               Algeria  ...          NaN\n",
              "10              Algeria  ...          NaN\n",
              "11              Algeria  ...          NaN\n",
              "12              Algeria  ...          NaN\n",
              "13               Angola  ...          NaN\n",
              "14               Angola  ...          NaN\n",
              "15               Angola  ...          NaN\n",
              "16               Angola  ...          NaN\n",
              "17  Antigua and Barbuda  ...          NaN\n",
              "18  Antigua and Barbuda  ...          NaN\n",
              "19  Antigua and Barbuda  ...          NaN\n",
              "\n",
              "[20 rows x 11 columns]"
            ]
          },
          "metadata": {
            "tags": []
          },
          "execution_count": 9
        }
      ]
    },
    {
      "cell_type": "code",
      "metadata": {
        "id": "7LCYFnCr_3X-",
        "colab_type": "code",
        "colab": {}
      },
      "source": [
        "import pandas as pd"
      ],
      "execution_count": 0,
      "outputs": []
    },
    {
      "cell_type": "code",
      "metadata": {
        "id": "A7fwUU3ceR0O",
        "colab_type": "code",
        "colab": {}
      },
      "source": [
        "# Challenge 4:\n",
        "# Merge the following two manifesto project datasets and \n",
        "# discuss with your peer on origin of the missing values in the merged dataset\n",
        "#\n",
        "\n",
        "party_names_dataset  = 'http://bit.ly/PartyNamesMarporDataSet'\n",
        "party_names_dataset2 = 'http://bit.ly/PartyNamesPledges'\n",
        "\n",
        "#OUR CODE GOES HERE\n",
        "party_names_dataset1 = pd.read_csv(apple_orange_dataset, encoding ='latin1')\n"
      ],
      "execution_count": 0,
      "outputs": []
    },
    {
      "cell_type": "code",
      "metadata": {
        "id": "sApONgeSxeCW",
        "colab_type": "code",
        "colab": {
          "base_uri": "https://localhost:8080/",
          "height": 163
        },
        "outputId": "f9e56c46-c4d5-46a2-dd66-69009af3dff3"
      },
      "source": [
        "party_names_dataset.head()"
      ],
      "execution_count": 15,
      "outputs": [
        {
          "output_type": "error",
          "ename": "AttributeError",
          "evalue": "ignored",
          "traceback": [
            "\u001b[0;31m---------------------------------------------------------------------------\u001b[0m",
            "\u001b[0;31mAttributeError\u001b[0m                            Traceback (most recent call last)",
            "\u001b[0;32m<ipython-input-15-694595fdef1f>\u001b[0m in \u001b[0;36m<module>\u001b[0;34m()\u001b[0m\n\u001b[0;32m----> 1\u001b[0;31m \u001b[0mparty_names_dataset\u001b[0m\u001b[0;34m.\u001b[0m\u001b[0mhead\u001b[0m\u001b[0;34m(\u001b[0m\u001b[0;34m)\u001b[0m\u001b[0;34m\u001b[0m\u001b[0;34m\u001b[0m\u001b[0m\n\u001b[0m",
            "\u001b[0;31mAttributeError\u001b[0m: 'str' object has no attribute 'head'"
          ]
        }
      ]
    },
    {
      "cell_type": "markdown",
      "metadata": {
        "id": "vc56PH0F3yQk",
        "colab_type": "text"
      },
      "source": [
        "## 1.2 User Input Values\n"
      ]
    },
    {
      "cell_type": "markdown",
      "metadata": {
        "id": "dcsdceT3kZ9T",
        "colab_type": "text"
      },
      "source": [
        "Missing values within a dataset can also result from mistakes from the user during the data entry/collection phase. This could also result from creating a vector of values from a calculation or from manually curating a vector as shown in the examples below."
      ]
    },
    {
      "cell_type": "code",
      "metadata": {
        "id": "Ovv2uESk97lV",
        "colab_type": "code",
        "colab": {}
      },
      "source": [
        "# Importing nan from numpy so as to represent missing values\n",
        "#\n",
        "from numpy import nan"
      ],
      "execution_count": 0,
      "outputs": []
    },
    {
      "cell_type": "code",
      "metadata": {
        "id": "NjxZX0bMlcDP",
        "colab_type": "code",
        "colab": {
          "base_uri": "https://localhost:8080/",
          "height": 85
        },
        "outputId": "36a5b9d6-b9f4-431f-d5f8-1e5980a11674"
      },
      "source": [
        "# Creating a missing value in a series\n",
        "# NB: Series is the datastructure for a single column of a DataFrame. \n",
        "# \n",
        "population = pd.Series({'Kenya': 47, 'Tanzania': nan, 'Uganda': 30})\n",
        "\n",
        "# Lets now print. Note that NaNs are also valid values for both Series and DataFrames\n",
        "#\n",
        "#OUR CODE GEOS HERE\n",
        "print(population)"
      ],
      "execution_count": 20,
      "outputs": [
        {
          "output_type": "stream",
          "text": [
            "Kenya       47.0\n",
            "Tanzania     NaN\n",
            "Uganda      30.0\n",
            "dtype: float64\n"
          ],
          "name": "stdout"
        }
      ]
    },
    {
      "cell_type": "code",
      "metadata": {
        "id": "YpglYiRboZf8",
        "colab_type": "code",
        "colab": {
          "base_uri": "https://localhost:8080/",
          "height": 102
        },
        "outputId": "52e7b1d6-433f-46e9-d29c-3dcf5f85c82b"
      },
      "source": [
        "# Challenge 5:\n",
        "# Create a series with the names and ages of your peers. Note nan for the ages of peers who you don't know.\n",
        "# \n",
        "# CODE GOES HERE\n",
        "AGE = pd.Series({'Baraka':24,'Anto':25,'Mary':23,'melisa':nan})\n",
        "print(AGE)"
      ],
      "execution_count": 21,
      "outputs": [
        {
          "output_type": "stream",
          "text": [
            "Baraka    24.0\n",
            "Anto      25.0\n",
            "Mary      23.0\n",
            "melisa     NaN\n",
            "dtype: float64\n"
          ],
          "name": "stdout"
        }
      ]
    },
    {
      "cell_type": "code",
      "metadata": {
        "id": "8srkAWH-rRtr",
        "colab_type": "code",
        "colab": {
          "base_uri": "https://localhost:8080/",
          "height": 142
        },
        "outputId": "1553a8d4-5f1d-45a1-b143-0bf89372dfad"
      },
      "source": [
        "# Now creating a missing value in a dataframe\n",
        "list_data = [['Steve', 56, 'Nairobi', 'no'],['Bill', 57, 'Machackos', 'yes'],['Richard', nan, nan, 'yes']]\n",
        "\n",
        "# Defining our columns\n",
        "age_df = pd.DataFrame(list_data, columns=['Name', 'Age', 'Hometown', 'Public Commute'])\n",
        "\n",
        "# Printing age_df\n",
        "age_df"
      ],
      "execution_count": 22,
      "outputs": [
        {
          "output_type": "execute_result",
          "data": {
            "text/html": [
              "<div>\n",
              "<style scoped>\n",
              "    .dataframe tbody tr th:only-of-type {\n",
              "        vertical-align: middle;\n",
              "    }\n",
              "\n",
              "    .dataframe tbody tr th {\n",
              "        vertical-align: top;\n",
              "    }\n",
              "\n",
              "    .dataframe thead th {\n",
              "        text-align: right;\n",
              "    }\n",
              "</style>\n",
              "<table border=\"1\" class=\"dataframe\">\n",
              "  <thead>\n",
              "    <tr style=\"text-align: right;\">\n",
              "      <th></th>\n",
              "      <th>Name</th>\n",
              "      <th>Age</th>\n",
              "      <th>Hometown</th>\n",
              "      <th>Public Commute</th>\n",
              "    </tr>\n",
              "  </thead>\n",
              "  <tbody>\n",
              "    <tr>\n",
              "      <th>0</th>\n",
              "      <td>Steve</td>\n",
              "      <td>56.0</td>\n",
              "      <td>Nairobi</td>\n",
              "      <td>no</td>\n",
              "    </tr>\n",
              "    <tr>\n",
              "      <th>1</th>\n",
              "      <td>Bill</td>\n",
              "      <td>57.0</td>\n",
              "      <td>Machackos</td>\n",
              "      <td>yes</td>\n",
              "    </tr>\n",
              "    <tr>\n",
              "      <th>2</th>\n",
              "      <td>Richard</td>\n",
              "      <td>NaN</td>\n",
              "      <td>NaN</td>\n",
              "      <td>yes</td>\n",
              "    </tr>\n",
              "  </tbody>\n",
              "</table>\n",
              "</div>"
            ],
            "text/plain": [
              "      Name   Age   Hometown Public Commute\n",
              "0    Steve  56.0    Nairobi             no\n",
              "1     Bill  57.0  Machackos            yes\n",
              "2  Richard   NaN        NaN            yes"
            ]
          },
          "metadata": {
            "tags": []
          },
          "execution_count": 22
        }
      ]
    },
    {
      "cell_type": "code",
      "metadata": {
        "id": "PUJgSHm-stTx",
        "colab_type": "code",
        "colab": {
          "base_uri": "https://localhost:8080/",
          "height": 85
        },
        "outputId": "a3e87361-abe0-4026-acca-c3389873ac06"
      },
      "source": [
        "# We can also assign a column of missing values to a dataframe directly\n",
        "#\n",
        "age_df['Public Commute'] = 'Yes';\n",
        "\n",
        "# print age_df\n",
        "#\n",
        "#OUR CODE GOES HERE\n",
        "print(age_df)"
      ],
      "execution_count": 23,
      "outputs": [
        {
          "output_type": "stream",
          "text": [
            "      Name   Age   Hometown Public Commute\n",
            "0    Steve  56.0    Nairobi            Yes\n",
            "1     Bill  57.0  Machackos            Yes\n",
            "2  Richard   NaN        NaN            Yes\n"
          ],
          "name": "stdout"
        }
      ]
    },
    {
      "cell_type": "code",
      "metadata": {
        "id": "vhMyz-00uCgC",
        "colab_type": "code",
        "colab": {
          "base_uri": "https://localhost:8080/",
          "height": 173
        },
        "outputId": "5157ef75-d35d-4789-e9fd-60531761f063"
      },
      "source": [
        "# Challenge 6\n",
        "# Create a dataframe with a list of your country's presidents \n",
        "# with their no. of years in office and their last year in office. \n",
        "# NB: You do not know the last year of office for the current president. \n",
        "#\n",
        "#OUR CODE GOE HERE\n",
        "list_country =[{'Kenya','Uhuru kenyatta',10,nan},{'Uganda','Museveni',35,2024},{'Tanzania','Magufuli',10,2023},{'Rwanda','Paul Kagame',24,1994}]\n",
        "df_country =pd.DataFrame(list_country,columns =['Country','President','years in office','last year'])\n",
        "df_country"
      ],
      "execution_count": 28,
      "outputs": [
        {
          "output_type": "execute_result",
          "data": {
            "text/html": [
              "<div>\n",
              "<style scoped>\n",
              "    .dataframe tbody tr th:only-of-type {\n",
              "        vertical-align: middle;\n",
              "    }\n",
              "\n",
              "    .dataframe tbody tr th {\n",
              "        vertical-align: top;\n",
              "    }\n",
              "\n",
              "    .dataframe thead th {\n",
              "        text-align: right;\n",
              "    }\n",
              "</style>\n",
              "<table border=\"1\" class=\"dataframe\">\n",
              "  <thead>\n",
              "    <tr style=\"text-align: right;\">\n",
              "      <th></th>\n",
              "      <th>Country</th>\n",
              "      <th>President</th>\n",
              "      <th>years in office</th>\n",
              "      <th>last year</th>\n",
              "    </tr>\n",
              "  </thead>\n",
              "  <tbody>\n",
              "    <tr>\n",
              "      <th>0</th>\n",
              "      <td>NaN</td>\n",
              "      <td>10</td>\n",
              "      <td>Uhuru kenyatta</td>\n",
              "      <td>Kenya</td>\n",
              "    </tr>\n",
              "    <tr>\n",
              "      <th>1</th>\n",
              "      <td>Museveni</td>\n",
              "      <td>2024</td>\n",
              "      <td>35</td>\n",
              "      <td>Uganda</td>\n",
              "    </tr>\n",
              "    <tr>\n",
              "      <th>2</th>\n",
              "      <td>Magufuli</td>\n",
              "      <td>10</td>\n",
              "      <td>Tanzania</td>\n",
              "      <td>2023</td>\n",
              "    </tr>\n",
              "    <tr>\n",
              "      <th>3</th>\n",
              "      <td>Rwanda</td>\n",
              "      <td>24</td>\n",
              "      <td>1994</td>\n",
              "      <td>Paul Kagame</td>\n",
              "    </tr>\n",
              "  </tbody>\n",
              "</table>\n",
              "</div>"
            ],
            "text/plain": [
              "    Country  President years in office    last year\n",
              "0       NaN         10  Uhuru kenyatta        Kenya\n",
              "1  Museveni       2024              35       Uganda\n",
              "2  Magufuli         10        Tanzania         2023\n",
              "3    Rwanda         24            1994  Paul Kagame"
            ]
          },
          "metadata": {
            "tags": []
          },
          "execution_count": 28
        }
      ]
    },
    {
      "cell_type": "markdown",
      "metadata": {
        "id": "ck7WHi5q30vR",
        "colab_type": "text"
      },
      "source": [
        "## 1.3 Re-indexing\n"
      ]
    },
    {
      "cell_type": "markdown",
      "metadata": {
        "id": "hQUEsqgqzgJi",
        "colab_type": "text"
      },
      "source": [
        "Missing values in data can also be introduced when we reindex our dataframe. We will show this through  a dataset from Gapminder."
      ]
    },
    {
      "cell_type": "code",
      "metadata": {
        "id": "LLwszhn_0D1_",
        "colab_type": "code",
        "colab": {
          "base_uri": "https://localhost:8080/",
          "height": 238
        },
        "outputId": "1f0b4dfb-4b5c-4f0a-db6b-1a1cf9ac0359"
      },
      "source": [
        "# Getting our dataset\n",
        "gapminder_dataset    = 'http://bit.ly/GapMinderKenyaDataSet'\n",
        "gapminder_dataset_df = pd.read_csv(gapminder_dataset, encoding ='latin1')\n",
        "\n",
        "# printing the dataframe\n",
        "print(gapminder_dataset_df)"
      ],
      "execution_count": 29,
      "outputs": [
        {
          "output_type": "stream",
          "text": [
            "   country continent  year  lifeExp       pop    gdpPercap\n",
            "0    Kenya    Africa  1952   42.270   6464046   853.540919\n",
            "1    Kenya    Africa  1957   44.686   7454779   944.438315\n",
            "2    Kenya    Africa  1962   47.949   8678557   896.966373\n",
            "3    Kenya    Africa  1967   50.654  10191512  1056.736457\n",
            "4    Kenya    Africa  1972   53.559  12044785  1222.359968\n",
            "5    Kenya    Africa  1977   56.155  14500404  1267.613204\n",
            "6    Kenya    Africa  1982   58.766  17661452  1348.225791\n",
            "7    Kenya    Africa  1987   59.339  21198082  1361.936856\n",
            "8    Kenya    Africa  1992   59.285  25020539  1341.921721\n",
            "9    Kenya    Africa  1997   54.407  28263827  1360.485021\n",
            "10   Kenya    Africa  2002   50.992  31386842  1287.514732\n",
            "11   Kenya    Africa  2007   54.110  35610177  1463.249282\n"
          ],
          "name": "stdout"
        }
      ]
    },
    {
      "cell_type": "code",
      "metadata": {
        "id": "Qk6CFqnP3VyD",
        "colab_type": "code",
        "colab": {
          "base_uri": "https://localhost:8080/",
          "height": 255
        },
        "outputId": "eb6dff67-6ef6-4077-ad86-598b3ed61da6"
      },
      "source": [
        "# now performing a groupby operation so as to subset the data\n",
        "life_exp = gapminder_dataset_df.groupby(['year'])['lifeExp'].mean()\n",
        "print(life_exp)"
      ],
      "execution_count": 30,
      "outputs": [
        {
          "output_type": "stream",
          "text": [
            "year\n",
            "1952    42.270\n",
            "1957    44.686\n",
            "1962    47.949\n",
            "1967    50.654\n",
            "1972    53.559\n",
            "1977    56.155\n",
            "1982    58.766\n",
            "1987    59.339\n",
            "1992    59.285\n",
            "1997    54.407\n",
            "2002    50.992\n",
            "2007    54.110\n",
            "Name: lifeExp, dtype: float64\n"
          ],
          "name": "stdout"
        }
      ]
    },
    {
      "cell_type": "code",
      "metadata": {
        "id": "dreKsIPC33IN",
        "colab_type": "code",
        "colab": {
          "base_uri": "https://localhost:8080/",
          "height": 289
        },
        "outputId": "940cc54d-a6f2-46a4-e0e7-87d1121e8bb4"
      },
      "source": [
        "# We then reindexing by slicing the data. We continue to chain the 'loc' from the code above\n",
        "print(life_exp.loc[range(2000, 2007) ])"
      ],
      "execution_count": 32,
      "outputs": [
        {
          "output_type": "stream",
          "text": [
            "year\n",
            "2000       NaN\n",
            "2001       NaN\n",
            "2002    50.992\n",
            "2003       NaN\n",
            "2004       NaN\n",
            "2005       NaN\n",
            "2006       NaN\n",
            "Name: lifeExp, dtype: float64\n"
          ],
          "name": "stdout"
        },
        {
          "output_type": "stream",
          "text": [
            "/usr/local/lib/python3.6/dist-packages/ipykernel_launcher.py:1: FutureWarning: \n",
            "Passing list-likes to .loc or [] with any missing label will raise\n",
            "KeyError in the future, you can use .reindex() as an alternative.\n",
            "\n",
            "See the documentation here:\n",
            "https://pandas.pydata.org/pandas-docs/stable/indexing.html#deprecate-loc-reindex-listlike\n",
            "  \"\"\"Entry point for launching an IPython kernel.\n"
          ],
          "name": "stderr"
        }
      ]
    },
    {
      "cell_type": "markdown",
      "metadata": {
        "id": "z3D_BL4Y6Wc-",
        "colab_type": "text"
      },
      "source": [
        "Now, it seems we have been provided a suggestion to use the reindex() method. We will do this below as we choose to subset the data separately and then use the reindex() method."
      ]
    },
    {
      "cell_type": "code",
      "metadata": {
        "id": "QHf1dxsB6Zgj",
        "colab_type": "code",
        "colab": {
          "base_uri": "https://localhost:8080/",
          "height": 85
        },
        "outputId": "6cbcd53f-c803-4003-86ad-43b0833c02ed"
      },
      "source": [
        "# subsetting the dataframe\n",
        "y_2000_df = life_exp[life_exp.index > 2000] \n",
        "print(y_2000_df)"
      ],
      "execution_count": 33,
      "outputs": [
        {
          "output_type": "stream",
          "text": [
            "year\n",
            "2002    50.992\n",
            "2007    54.110\n",
            "Name: lifeExp, dtype: float64\n"
          ],
          "name": "stdout"
        }
      ]
    },
    {
      "cell_type": "code",
      "metadata": {
        "id": "zw134j3963KS",
        "colab_type": "code",
        "colab": {
          "base_uri": "https://localhost:8080/",
          "height": 221
        },
        "outputId": "0c360584-2832-48cd-874d-88e65a41a9be"
      },
      "source": [
        "# then reindexing\n",
        "print(y_2000_df.reindex(range(2000, 2010)))"
      ],
      "execution_count": 34,
      "outputs": [
        {
          "output_type": "stream",
          "text": [
            "year\n",
            "2000       NaN\n",
            "2001       NaN\n",
            "2002    50.992\n",
            "2003       NaN\n",
            "2004       NaN\n",
            "2005       NaN\n",
            "2006       NaN\n",
            "2007    54.110\n",
            "2008       NaN\n",
            "2009       NaN\n",
            "Name: lifeExp, dtype: float64\n"
          ],
          "name": "stdout"
        }
      ]
    },
    {
      "cell_type": "code",
      "metadata": {
        "id": "cGkhGcDr9CHB",
        "colab_type": "code",
        "colab": {}
      },
      "source": [
        "# Challenge 7\n",
        "# We would want to look at only the years from 2000 to 2010 from the gapminder dataset below. \n",
        "# Perform grouped operations, subseting the data and then re-indexing it. \n",
        "# Show how this process might result to getting missing values.\n",
        "\n",
        "# Assinging data the url for our dataset\n",
        "data = 'http://bit.ly/GapMinderUgandaDataSet'\n",
        "\n",
        "#OUR CODE GOES HERE\n",
        "df_data =pd.read_csv(data,encoding ='latin1')"
      ],
      "execution_count": 0,
      "outputs": []
    },
    {
      "cell_type": "code",
      "metadata": {
        "id": "2DH9INXIN5Q0",
        "colab_type": "code",
        "colab": {
          "base_uri": "https://localhost:8080/",
          "height": 421
        },
        "outputId": "f79daa9c-83e3-4a88-a879-232efac6602c"
      },
      "source": [
        "df_data"
      ],
      "execution_count": 36,
      "outputs": [
        {
          "output_type": "execute_result",
          "data": {
            "text/html": [
              "<div>\n",
              "<style scoped>\n",
              "    .dataframe tbody tr th:only-of-type {\n",
              "        vertical-align: middle;\n",
              "    }\n",
              "\n",
              "    .dataframe tbody tr th {\n",
              "        vertical-align: top;\n",
              "    }\n",
              "\n",
              "    .dataframe thead th {\n",
              "        text-align: right;\n",
              "    }\n",
              "</style>\n",
              "<table border=\"1\" class=\"dataframe\">\n",
              "  <thead>\n",
              "    <tr style=\"text-align: right;\">\n",
              "      <th></th>\n",
              "      <th>country</th>\n",
              "      <th>continent</th>\n",
              "      <th>year</th>\n",
              "      <th>lifeExp</th>\n",
              "      <th>pop</th>\n",
              "      <th>gdpPercap</th>\n",
              "    </tr>\n",
              "  </thead>\n",
              "  <tbody>\n",
              "    <tr>\n",
              "      <th>0</th>\n",
              "      <td>Uganda</td>\n",
              "      <td>Africa</td>\n",
              "      <td>1952</td>\n",
              "      <td>39.978</td>\n",
              "      <td>5824797</td>\n",
              "      <td>734.753484</td>\n",
              "    </tr>\n",
              "    <tr>\n",
              "      <th>1</th>\n",
              "      <td>Uganda</td>\n",
              "      <td>Africa</td>\n",
              "      <td>1957</td>\n",
              "      <td>42.571</td>\n",
              "      <td>6675501</td>\n",
              "      <td>774.371069</td>\n",
              "    </tr>\n",
              "    <tr>\n",
              "      <th>2</th>\n",
              "      <td>Uganda</td>\n",
              "      <td>Africa</td>\n",
              "      <td>1962</td>\n",
              "      <td>45.344</td>\n",
              "      <td>7688797</td>\n",
              "      <td>767.271740</td>\n",
              "    </tr>\n",
              "    <tr>\n",
              "      <th>3</th>\n",
              "      <td>Uganda</td>\n",
              "      <td>Africa</td>\n",
              "      <td>1967</td>\n",
              "      <td>48.051</td>\n",
              "      <td>8900294</td>\n",
              "      <td>908.918522</td>\n",
              "    </tr>\n",
              "    <tr>\n",
              "      <th>4</th>\n",
              "      <td>Uganda</td>\n",
              "      <td>Africa</td>\n",
              "      <td>1972</td>\n",
              "      <td>51.016</td>\n",
              "      <td>10190285</td>\n",
              "      <td>950.735869</td>\n",
              "    </tr>\n",
              "    <tr>\n",
              "      <th>5</th>\n",
              "      <td>Uganda</td>\n",
              "      <td>Africa</td>\n",
              "      <td>1977</td>\n",
              "      <td>50.350</td>\n",
              "      <td>11457758</td>\n",
              "      <td>843.733137</td>\n",
              "    </tr>\n",
              "    <tr>\n",
              "      <th>6</th>\n",
              "      <td>Uganda</td>\n",
              "      <td>Africa</td>\n",
              "      <td>1982</td>\n",
              "      <td>49.849</td>\n",
              "      <td>12939400</td>\n",
              "      <td>682.266227</td>\n",
              "    </tr>\n",
              "    <tr>\n",
              "      <th>7</th>\n",
              "      <td>Uganda</td>\n",
              "      <td>Africa</td>\n",
              "      <td>1987</td>\n",
              "      <td>51.509</td>\n",
              "      <td>15283050</td>\n",
              "      <td>617.724406</td>\n",
              "    </tr>\n",
              "    <tr>\n",
              "      <th>8</th>\n",
              "      <td>Uganda</td>\n",
              "      <td>Africa</td>\n",
              "      <td>1992</td>\n",
              "      <td>48.825</td>\n",
              "      <td>18252190</td>\n",
              "      <td>644.170797</td>\n",
              "    </tr>\n",
              "    <tr>\n",
              "      <th>9</th>\n",
              "      <td>Uganda</td>\n",
              "      <td>Africa</td>\n",
              "      <td>1997</td>\n",
              "      <td>44.578</td>\n",
              "      <td>21210254</td>\n",
              "      <td>816.559081</td>\n",
              "    </tr>\n",
              "    <tr>\n",
              "      <th>10</th>\n",
              "      <td>Uganda</td>\n",
              "      <td>Africa</td>\n",
              "      <td>2002</td>\n",
              "      <td>47.813</td>\n",
              "      <td>24739869</td>\n",
              "      <td>927.721002</td>\n",
              "    </tr>\n",
              "    <tr>\n",
              "      <th>11</th>\n",
              "      <td>Uganda</td>\n",
              "      <td>Africa</td>\n",
              "      <td>2007</td>\n",
              "      <td>51.542</td>\n",
              "      <td>29170398</td>\n",
              "      <td>1056.380121</td>\n",
              "    </tr>\n",
              "  </tbody>\n",
              "</table>\n",
              "</div>"
            ],
            "text/plain": [
              "   country continent  year  lifeExp       pop    gdpPercap\n",
              "0   Uganda    Africa  1952   39.978   5824797   734.753484\n",
              "1   Uganda    Africa  1957   42.571   6675501   774.371069\n",
              "2   Uganda    Africa  1962   45.344   7688797   767.271740\n",
              "3   Uganda    Africa  1967   48.051   8900294   908.918522\n",
              "4   Uganda    Africa  1972   51.016  10190285   950.735869\n",
              "5   Uganda    Africa  1977   50.350  11457758   843.733137\n",
              "6   Uganda    Africa  1982   49.849  12939400   682.266227\n",
              "7   Uganda    Africa  1987   51.509  15283050   617.724406\n",
              "8   Uganda    Africa  1992   48.825  18252190   644.170797\n",
              "9   Uganda    Africa  1997   44.578  21210254   816.559081\n",
              "10  Uganda    Africa  2002   47.813  24739869   927.721002\n",
              "11  Uganda    Africa  2007   51.542  29170398  1056.380121"
            ]
          },
          "metadata": {
            "tags": []
          },
          "execution_count": 36
        }
      ]
    },
    {
      "cell_type": "code",
      "metadata": {
        "id": "SnsIZ86aN9IA",
        "colab_type": "code",
        "colab": {
          "base_uri": "https://localhost:8080/",
          "height": 255
        },
        "outputId": "ab7baab4-f551-4832-cb53-31c4442ac53f"
      },
      "source": [
        "data_df = df_data.groupby(['year'])['lifeExp'].mean()\n",
        "print(data_df)"
      ],
      "execution_count": 44,
      "outputs": [
        {
          "output_type": "stream",
          "text": [
            "year\n",
            "1952    39.978\n",
            "1957    42.571\n",
            "1962    45.344\n",
            "1967    48.051\n",
            "1972    51.016\n",
            "1977    50.350\n",
            "1982    49.849\n",
            "1987    51.509\n",
            "1992    48.825\n",
            "1997    44.578\n",
            "2002    47.813\n",
            "2007    51.542\n",
            "Name: lifeExp, dtype: float64\n"
          ],
          "name": "stdout"
        }
      ]
    },
    {
      "cell_type": "code",
      "metadata": {
        "id": "2YyuqRRvO6sB",
        "colab_type": "code",
        "colab": {
          "base_uri": "https://localhost:8080/",
          "height": 340
        },
        "outputId": "b7119bc3-9465-4791-9c37-ee4bc81a8e0d"
      },
      "source": [
        "#reindexing will now be done by splicing\n",
        "print(data_df.loc[range(2000,2010)])"
      ],
      "execution_count": 45,
      "outputs": [
        {
          "output_type": "stream",
          "text": [
            "year\n",
            "2000       NaN\n",
            "2001       NaN\n",
            "2002    47.813\n",
            "2003       NaN\n",
            "2004       NaN\n",
            "2005       NaN\n",
            "2006       NaN\n",
            "2007    51.542\n",
            "2008       NaN\n",
            "2009       NaN\n",
            "Name: lifeExp, dtype: float64\n"
          ],
          "name": "stdout"
        },
        {
          "output_type": "stream",
          "text": [
            "/usr/local/lib/python3.6/dist-packages/ipykernel_launcher.py:1: FutureWarning: \n",
            "Passing list-likes to .loc or [] with any missing label will raise\n",
            "KeyError in the future, you can use .reindex() as an alternative.\n",
            "\n",
            "See the documentation here:\n",
            "https://pandas.pydata.org/pandas-docs/stable/indexing.html#deprecate-loc-reindex-listlike\n",
            "  \"\"\"Entry point for launching an IPython kernel.\n"
          ],
          "name": "stderr"
        }
      ]
    },
    {
      "cell_type": "code",
      "metadata": {
        "id": "7pwY36-XQ5R3",
        "colab_type": "code",
        "colab": {
          "base_uri": "https://localhost:8080/",
          "height": 85
        },
        "outputId": "b0705453-1939-4355-d000-9f95dab39eb5"
      },
      "source": [
        "#resubsetting dataframe\n",
        "data_final = data_df[data_df.index >2000]\n",
        "print(data_final)"
      ],
      "execution_count": 49,
      "outputs": [
        {
          "output_type": "stream",
          "text": [
            "year\n",
            "2002    47.813\n",
            "2007    51.542\n",
            "Name: lifeExp, dtype: float64\n"
          ],
          "name": "stdout"
        }
      ]
    },
    {
      "cell_type": "code",
      "metadata": {
        "id": "dsSSIVJfSXLE",
        "colab_type": "code",
        "colab": {
          "base_uri": "https://localhost:8080/",
          "height": 221
        },
        "outputId": "5a75daf4-c7a5-4e39-8d44-8fd026528942"
      },
      "source": [
        "print(data_final.reindex(range(2000,2010)))"
      ],
      "execution_count": 52,
      "outputs": [
        {
          "output_type": "stream",
          "text": [
            "year\n",
            "2000       NaN\n",
            "2001       NaN\n",
            "2002    47.813\n",
            "2003       NaN\n",
            "2004       NaN\n",
            "2005       NaN\n",
            "2006       NaN\n",
            "2007    51.542\n",
            "2008       NaN\n",
            "2009       NaN\n",
            "Name: lifeExp, dtype: float64\n"
          ],
          "name": "stdout"
        }
      ]
    },
    {
      "cell_type": "code",
      "metadata": {
        "id": "pWj5KcRbTS0Z",
        "colab_type": "code",
        "colab": {}
      },
      "source": [
        ""
      ],
      "execution_count": 0,
      "outputs": []
    }
  ]
}